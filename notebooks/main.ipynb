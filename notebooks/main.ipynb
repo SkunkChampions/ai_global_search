{
 "cells": [
  {
   "cell_type": "code",
   "execution_count": 24,
   "id": "9341b955-5892-4bd2-a985-98449191c02a",
   "metadata": {},
   "outputs": [],
   "source": [
    "from langchain.prompts import PromptTemplate\n",
    "from langchain.llms import OpenAI\n",
    "from langchain.chains import LLMChain\n",
    "from langchain.vectorstores import Chroma\n",
    "from langchain.embeddings.openai import OpenAIEmbeddings\n",
    "from langchain.text_splitter import CharacterTextSplitter\n",
    "from langchain.document_loaders import TextLoader, DirectoryLoader\n",
    "from langchain.agents import create_pandas_dataframe_agent\n",
    "from langchain.agents import create_csv_agent\n",
    "from langchain.chains import RetrievalQA\n",
    "from dotenv import load_dotenv\n",
    "import json\n",
    "import os\n",
    "import pandas as pd\n",
    "\n",
    "#!pip install unstructured tiktoken"
   ]
  },
  {
   "cell_type": "code",
   "execution_count": 25,
   "id": "db82623e-f5da-42f3-b6fa-245d5faf6783",
   "metadata": {},
   "outputs": [],
   "source": [
    "os.environ[\"OPENAI_API_KEY\"] = \"\" # should use .env and load_dotenv\n",
    "llm = OpenAI(openai_api_key = os.environ[\"OPENAI_API_KEY\"], temperature = 0)"
   ]
  },
  {
   "cell_type": "code",
   "execution_count": 26,
   "id": "43fa3dad-3819-49fd-b5fc-2d20aa4581a5",
   "metadata": {},
   "outputs": [],
   "source": [
    "# inspect csv"
   ]
  },
  {
   "cell_type": "code",
   "execution_count": 27,
   "id": "cfaebfaa-31e6-4d92-9050-9490c5ec74ed",
   "metadata": {},
   "outputs": [],
   "source": [
    "tabular_data = pd.read_csv('../data/hack.csv')\n",
    "tabular_data_agent = create_pandas_dataframe_agent(llm, tabular_data, verbose = True)"
   ]
  },
  {
   "cell_type": "code",
   "execution_count": 28,
   "id": "4e0927a1-cd7e-4e98-be48-62bea8a12e91",
   "metadata": {},
   "outputs": [
    {
     "data": {
      "text/html": [
       "<div>\n",
       "<style scoped>\n",
       "    .dataframe tbody tr th:only-of-type {\n",
       "        vertical-align: middle;\n",
       "    }\n",
       "\n",
       "    .dataframe tbody tr th {\n",
       "        vertical-align: top;\n",
       "    }\n",
       "\n",
       "    .dataframe thead th {\n",
       "        text-align: right;\n",
       "    }\n",
       "</style>\n",
       "<table border=\"1\" class=\"dataframe\">\n",
       "  <thead>\n",
       "    <tr style=\"text-align: right;\">\n",
       "      <th></th>\n",
       "      <th>Date</th>\n",
       "      <th>Year</th>\n",
       "      <th>Category</th>\n",
       "      <th>Payee</th>\n",
       "      <th>Description</th>\n",
       "      <th>Location</th>\n",
       "      <th>Zip Code</th>\n",
       "      <th>Type</th>\n",
       "      <th>Trx Numbers</th>\n",
       "      <th>Amount</th>\n",
       "      <th>Unnamed: 10</th>\n",
       "      <th>Unnamed: 11</th>\n",
       "    </tr>\n",
       "  </thead>\n",
       "  <tbody>\n",
       "    <tr>\n",
       "      <th>0</th>\n",
       "      <td>10/9/2022</td>\n",
       "      <td>2022</td>\n",
       "      <td>Revenue</td>\n",
       "      <td>Online Orders</td>\n",
       "      <td>Website Sales</td>\n",
       "      <td>Blue Pot 2</td>\n",
       "      <td>94020</td>\n",
       "      <td>Cash in</td>\n",
       "      <td>NaN</td>\n",
       "      <td>533.39</td>\n",
       "      <td>NaN</td>\n",
       "      <td>NaN</td>\n",
       "    </tr>\n",
       "    <tr>\n",
       "      <th>1</th>\n",
       "      <td>6/15/2022</td>\n",
       "      <td>2022</td>\n",
       "      <td>Expense</td>\n",
       "      <td>Utility Company</td>\n",
       "      <td>Electricity Bill</td>\n",
       "      <td>Blue Pot 2</td>\n",
       "      <td>94020</td>\n",
       "      <td>Cash out</td>\n",
       "      <td>NaN</td>\n",
       "      <td>583.80</td>\n",
       "      <td>NaN</td>\n",
       "      <td>NaN</td>\n",
       "    </tr>\n",
       "    <tr>\n",
       "      <th>2</th>\n",
       "      <td>12/18/2022</td>\n",
       "      <td>2022</td>\n",
       "      <td>Cost</td>\n",
       "      <td>Coffee Supplier</td>\n",
       "      <td>Coffee Beans Purchase</td>\n",
       "      <td>Blue Pot 1</td>\n",
       "      <td>94070</td>\n",
       "      <td>Cash out</td>\n",
       "      <td>NaN</td>\n",
       "      <td>524.79</td>\n",
       "      <td>NaN</td>\n",
       "      <td>NaN</td>\n",
       "    </tr>\n",
       "    <tr>\n",
       "      <th>3</th>\n",
       "      <td>9/14/2022</td>\n",
       "      <td>2022</td>\n",
       "      <td>Cost</td>\n",
       "      <td>Coffee Supplier</td>\n",
       "      <td>Coffee Beans Purchase</td>\n",
       "      <td>Blue Pot 1</td>\n",
       "      <td>94070</td>\n",
       "      <td>Cash out</td>\n",
       "      <td>NaN</td>\n",
       "      <td>83.16</td>\n",
       "      <td>NaN</td>\n",
       "      <td>NaN</td>\n",
       "    </tr>\n",
       "    <tr>\n",
       "      <th>4</th>\n",
       "      <td>6/19/2023</td>\n",
       "      <td>2023</td>\n",
       "      <td>Cost</td>\n",
       "      <td>Equipment Supplier</td>\n",
       "      <td>Espresso Machine Purchase</td>\n",
       "      <td>Blue Pot 7</td>\n",
       "      <td>94025</td>\n",
       "      <td>Cash out</td>\n",
       "      <td>NaN</td>\n",
       "      <td>593.46</td>\n",
       "      <td>NaN</td>\n",
       "      <td>NaN</td>\n",
       "    </tr>\n",
       "  </tbody>\n",
       "</table>\n",
       "</div>"
      ],
      "text/plain": [
       "         Date  Year Category               Payee                Description  \\\n",
       "0   10/9/2022  2022  Revenue       Online Orders              Website Sales   \n",
       "1   6/15/2022  2022  Expense     Utility Company           Electricity Bill   \n",
       "2  12/18/2022  2022     Cost     Coffee Supplier      Coffee Beans Purchase   \n",
       "3   9/14/2022  2022     Cost     Coffee Supplier      Coffee Beans Purchase   \n",
       "4   6/19/2023  2023     Cost  Equipment Supplier  Espresso Machine Purchase   \n",
       "\n",
       "     Location  Zip Code      Type  Trx Numbers  Amount  Unnamed: 10  \\\n",
       "0  Blue Pot 2     94020   Cash in          NaN  533.39          NaN   \n",
       "1  Blue Pot 2     94020  Cash out          NaN  583.80          NaN   \n",
       "2  Blue Pot 1     94070  Cash out          NaN  524.79          NaN   \n",
       "3  Blue Pot 1     94070  Cash out          NaN   83.16          NaN   \n",
       "4  Blue Pot 7     94025  Cash out          NaN  593.46          NaN   \n",
       "\n",
       "   Unnamed: 11  \n",
       "0          NaN  \n",
       "1          NaN  \n",
       "2          NaN  \n",
       "3          NaN  \n",
       "4          NaN  "
      ]
     },
     "execution_count": 28,
     "metadata": {},
     "output_type": "execute_result"
    }
   ],
   "source": [
    "tabular_data.head()"
   ]
  },
  {
   "cell_type": "code",
   "execution_count": 29,
   "id": "b80d23af-eb02-454c-b98e-57a572d9b56c",
   "metadata": {},
   "outputs": [
    {
     "name": "stdout",
     "output_type": "stream",
     "text": [
      "--------------------------------------------------\n",
      "Date\n",
      "['10/9/2022' '6/15/2022' '12/18/2022' '9/14/2022' '6/19/2023']\n",
      "--------------------------------------------------\n",
      "Year\n",
      "[2022 2023]\n",
      "--------------------------------------------------\n",
      "Category\n",
      "['Revenue' 'Expense' 'Cost']\n",
      "--------------------------------------------------\n",
      "Payee\n",
      "['Online Orders' 'Utility Company' 'Coffee Supplier' 'Equipment Supplier'\n",
      " 'Local Dairy']\n",
      "--------------------------------------------------\n",
      "Description\n",
      "['Website Sales' 'Electricity Bill' 'Coffee Beans Purchase'\n",
      " 'Espresso Machine Purchase' 'Milk and Cream Purchase']\n",
      "--------------------------------------------------\n",
      "Location\n",
      "['Blue Pot 2' 'Blue Pot 1' 'Blue Pot 7' 'Blue Pot 4' 'Blue Pot 9']\n",
      "--------------------------------------------------\n",
      "Zip Code\n",
      "[94020 94070 94025 94404 22180]\n",
      "--------------------------------------------------\n",
      "Type\n",
      "['Cash in' 'Cash out']\n",
      "--------------------------------------------------\n",
      "Trx Numbers\n",
      "[nan]\n",
      "--------------------------------------------------\n",
      "Amount\n",
      "[533.39 583.8  524.79  83.16 593.46]\n",
      "--------------------------------------------------\n",
      "Unnamed: 10\n",
      "[    nan 124110.  42462. 117320. 100800.]\n",
      "--------------------------------------------------\n",
      "Unnamed: 11\n",
      "[nan 20.]\n"
     ]
    }
   ],
   "source": [
    "for col in tabular_data.columns:\n",
    "    print('-'*50)\n",
    "    print(col)\n",
    "    print(tabular_data[col].unique()[:5])"
   ]
  },
  {
   "cell_type": "code",
   "execution_count": 21,
   "id": "bbce2ff5-21ca-4ff1-a7c0-b214a3d9bf1d",
   "metadata": {},
   "outputs": [
    {
     "data": {
      "text/plain": [
       "(5976, 12)"
      ]
     },
     "execution_count": 21,
     "metadata": {},
     "output_type": "execute_result"
    }
   ],
   "source": [
    "tabular_data.shape"
   ]
  },
  {
   "cell_type": "code",
   "execution_count": 20,
   "id": "29707511-fb2d-4ae8-93d8-3ecb3312d93d",
   "metadata": {},
   "outputs": [
    {
     "name": "stdout",
     "output_type": "stream",
     "text": [
      "\n",
      "\n",
      "\u001b[1m> Entering new  chain...\u001b[0m\n",
      "\u001b[32;1m\u001b[1;3mThought: I need to find out how many rows are in the dataframe\n",
      "Action: python_repl_ast\n",
      "Action Input: df.shape[0]\u001b[0m\n",
      "Observation: \u001b[36;1m\u001b[1;3m5976\u001b[0m\n",
      "Thought:\u001b[32;1m\u001b[1;3m I now know the final answer\n",
      "Final Answer: There are 5976 rows in my data.\u001b[0m\n",
      "\n",
      "\u001b[1m> Finished chain.\u001b[0m\n"
     ]
    },
    {
     "data": {
      "text/plain": [
       "'There are 5976 rows in my data.'"
      ]
     },
     "execution_count": 20,
     "metadata": {},
     "output_type": "execute_result"
    }
   ],
   "source": [
    "tabular_data_agent.run('How many rows are there in my data?')"
   ]
  },
  {
   "cell_type": "code",
   "execution_count": 22,
   "id": "7e438955-1c49-4837-a817-d0e27a3652fe",
   "metadata": {},
   "outputs": [
    {
     "name": "stdout",
     "output_type": "stream",
     "text": [
      "\n",
      "\n",
      "\u001b[1m> Entering new  chain...\u001b[0m\n",
      "\u001b[32;1m\u001b[1;3mThought: I need to find the highest expense in zip code 94020\n",
      "Action: python_repl_ast\n",
      "Action Input: df[(df['Zip Code'] == 94020) & (df['Type'] == 'Cash out')]['Amount'].max()\u001b[0m\n",
      "Observation: \u001b[36;1m\u001b[1;3m20000.0\u001b[0m\n",
      "Thought:\u001b[32;1m\u001b[1;3m I now know the final answer\n",
      "Final Answer: The highest expense in zip code 94020 is 20000.0.\u001b[0m\n",
      "\n",
      "\u001b[1m> Finished chain.\u001b[0m\n"
     ]
    },
    {
     "data": {
      "text/plain": [
       "'The highest expense in zip code 94020 is 20000.0.'"
      ]
     },
     "execution_count": 22,
     "metadata": {},
     "output_type": "execute_result"
    }
   ],
   "source": [
    "tabular_data_agent.run('What is my highest expense in zip code 94020?')"
   ]
  },
  {
   "cell_type": "code",
   "execution_count": 14,
   "id": "d63dcc5a-64df-4f9a-aee4-3614185d9a57",
   "metadata": {},
   "outputs": [
    {
     "name": "stdout",
     "output_type": "stream",
     "text": [
      "\n",
      "\n",
      "\u001b[1m> Entering new  chain...\u001b[0m\n",
      "\u001b[32;1m\u001b[1;3mThought: I need to sort the dataframe by date and then filter for revenue.\n",
      "Action: python_repl_ast\n",
      "Action Input: df.sort_values(by='Date', ascending=False).head()[df['Category'] == 'Revenue']\u001b[0m\n",
      "Observation: \u001b[36;1m\u001b[1;3m          Date  Year Category           Payee Description    Location  \\\n",
      "2048  9/9/2022  2022  Revenue  In-Store Sales  Hot Coffee  Blue Pot 5   \n",
      "\n",
      "      Zip Code     Type  Trx Numbers  Amount  Unnamed: 10  Unnamed: 11  \n",
      "2048     94401  Cash in          NaN  9423.7          NaN          NaN  \u001b[0m\n",
      "Thought:"
     ]
    },
    {
     "name": "stderr",
     "output_type": "stream",
     "text": [
      "<string>:1: UserWarning: Boolean Series key will be reindexed to match DataFrame index.\n"
     ]
    },
    {
     "name": "stdout",
     "output_type": "stream",
     "text": [
      "\u001b[32;1m\u001b[1;3m I need to repeat this for the next 4 rows.\n",
      "Action: python_repl_ast\n",
      "Action Input: df.sort_values(by='Date', ascending=False).head()[df['Category'] == 'Revenue'].iloc[1:]\u001b[0m\n",
      "Observation: \u001b[36;1m\u001b[1;3mEmpty DataFrame\n",
      "Columns: [Date, Year, Category, Payee, Description, Location, Zip Code, Type, Trx Numbers, Amount, Unnamed: 10, Unnamed: 11]\n",
      "Index: []\u001b[0m\n",
      "Thought:"
     ]
    },
    {
     "name": "stderr",
     "output_type": "stream",
     "text": [
      "<string>:1: UserWarning: Boolean Series key will be reindexed to match DataFrame index.\n"
     ]
    },
    {
     "name": "stdout",
     "output_type": "stream",
     "text": [
      "\u001b[32;1m\u001b[1;3m I now know the final answer\n",
      "Final Answer: There are no other revenue entries in the top 5.\u001b[0m\n",
      "\n",
      "\u001b[1m> Finished chain.\u001b[0m\n"
     ]
    },
    {
     "data": {
      "text/plain": [
       "'There are no other revenue entries in the top 5.'"
      ]
     },
     "execution_count": 14,
     "metadata": {},
     "output_type": "execute_result"
    }
   ],
   "source": [
    "tabular_data_agent.run('What is the description of my most recent revenue? Include the top 5 with description and amount as a table.')"
   ]
  },
  {
   "cell_type": "code",
   "execution_count": 22,
   "id": "176a8af4-adbf-455f-9b17-62812464e96e",
   "metadata": {},
   "outputs": [
    {
     "name": "stdout",
     "output_type": "stream",
     "text": [
      "\n",
      "\n",
      "\u001b[1m> Entering new  chain...\u001b[0m\n",
      "\u001b[32;1m\u001b[1;3mThought: I need to sort the dataframe by the amount column.\n",
      "Action: python_repl_ast\n",
      "Action Input: df.sort_values(by='Amount', ascending=False)\u001b[0m\n",
      "Observation: \u001b[36;1m\u001b[1;3m            Date  Year Category               Payee  \\\n",
      "7      5/21/2023  2023  Revenue      In-Store Sales   \n",
      "44     10/6/2022  2022  Revenue      In-Store Sales   \n",
      "3741    5/6/2023  2023     Cost         Local Dairy   \n",
      "4977    5/5/2023  2023     Cost         Local Dairy   \n",
      "4378   6/16/2023  2023     Cost         Local Dairy   \n",
      "...          ...   ...      ...                 ...   \n",
      "2707   5/19/2022  2022     Cost     Coffee Supplier   \n",
      "1902   12/3/2022  2022     Cost  Equipment Supplier   \n",
      "2175  10/10/2022  2022     Cost         Local Dairy   \n",
      "3      9/14/2022  2022     Cost     Coffee Supplier   \n",
      "5      11/1/2022  2022     Cost         Local Dairy   \n",
      "\n",
      "                    Description     Location  Zip Code      Type  Trx Numbers  \\\n",
      "7                   Iced Coffee   Blue Pot 1     94070   Cash in          NaN   \n",
      "44                  Iced Coffee   Blue Pot 1     94070   Cash in          NaN   \n",
      "3741    Milk and Cream Purchase  Blue Pot 10     94070  Cash out          NaN   \n",
      "4977    Milk and Cream Purchase   Blue Pot 1     94070  Cash out          NaN   \n",
      "4378    Milk and Cream Purchase   Blue Pot 3     94003  Cash out          NaN   \n",
      "...                         ...          ...       ...       ...          ...   \n",
      "2707      Coffee Beans Purchase  Blue Pot 10     94070  Cash out          NaN   \n",
      "1902  Espresso Machine Purchase   Blue Pot 5     94401  Cash out          NaN   \n",
      "2175    Milk and Cream Purchase   Blue Pot 4     94404  Cash out          NaN   \n",
      "3         Coffee Beans Purchase   Blue Pot 1     94070  Cash out          NaN   \n",
      "5       Milk and Cream Purchase   Blue Pot 4     94404  Cash out          NaN   \n",
      "\n",
      "         Amount  Unnamed: 10  Unnamed: 11  \n",
      "7     125000.00          NaN          NaN  \n",
      "44    100000.00          NaN          NaN  \n",
      "3741   50000.00          NaN          NaN  \n",
      "4977   50000.00          NaN          NaN  \n",
      "4378   50000.00          NaN          NaN  \n",
      "...         ...          ...          ...  \n",
      "2707      94.50          NaN          NaN  \n",
      "1902      94.50          NaN          NaN  \n",
      "2175      94.50          NaN          NaN  \n",
      "3         83.16          NaN          NaN  \n",
      "5         39.06          NaN          NaN  \n",
      "\n",
      "[5976 rows x 12 columns]\u001b[0m\n",
      "Thought:\u001b[32;1m\u001b[1;3m I now know the biggest expenses by description.\n",
      "Final Answer: Milk and Cream Purchase, Iced Coffee, Espresso Machine Purchase, Coffee Beans Purchase.\u001b[0m\n",
      "\n",
      "\u001b[1m> Finished chain.\u001b[0m\n"
     ]
    },
    {
     "data": {
      "text/plain": [
       "'Milk and Cream Purchase, Iced Coffee, Espresso Machine Purchase, Coffee Beans Purchase.'"
      ]
     },
     "execution_count": 22,
     "metadata": {},
     "output_type": "execute_result"
    }
   ],
   "source": [
    "tabular_data_agent.run('What are my biggest expenses? Please give a list by the descriptions.')"
   ]
  },
  {
   "cell_type": "code",
   "execution_count": 4,
   "id": "a92b4a3b-bc6b-49fc-9c27-d682c6758eaa",
   "metadata": {},
   "outputs": [],
   "source": [
    "# general Q&A on existing data"
   ]
  },
  {
   "cell_type": "code",
   "execution_count": 30,
   "id": "e26f7ca6-91ce-48bb-8e2e-0254549b446b",
   "metadata": {},
   "outputs": [],
   "source": [
    "# get existing embeddings\n",
    "embeddings = OpenAIEmbeddings()\n",
    "loader = DirectoryLoader(\"../data\", glob=\"*.txt\")\n",
    "documents = loader.load()\n",
    "\n",
    "# split text into chunks\n",
    "text_splitter = CharacterTextSplitter(chunk_size = 200,chunk_overlap = 10)\n",
    "texts = text_splitter.split_documents(documents)\n",
    "\n",
    "# store in Chroma, texts converted to embeddings within\n",
    "vecstore = Chroma.from_documents(texts, embeddings)\n",
    "\n",
    "# define retriever\n",
    "q_and_a = RetrievalQA.from_chain_type(\n",
    "    llm=llm,\n",
    "    chain_type = \"stuff\",\n",
    "    retriever = vecstore.as_retriever()\n",
    ")\n",
    "\n",
    "def query(q):\n",
    "    print(\"Question : \", q)\n",
    "    print(\"Answer   : \", q_and_a(q))"
   ]
  },
  {
   "cell_type": "code",
   "execution_count": 21,
   "id": "a3ee42c8-34df-4099-89b9-9035f63ba15c",
   "metadata": {},
   "outputs": [
    {
     "name": "stdout",
     "output_type": "stream",
     "text": [
      "Question :  What are my biggest expenses? Please give a list by the descriptions.\n"
     ]
    },
    {
     "name": "stderr",
     "output_type": "stream",
     "text": [
      "Number of requested results 4 is greater than number of elements in index 1, updating n_results = 1\n"
     ]
    },
    {
     "name": "stdout",
     "output_type": "stream",
     "text": [
      "Answer   :  {'query': 'What are my biggest expenses? Please give a list by the descriptions.', 'result': \" I don't know.\"}\n"
     ]
    }
   ],
   "source": [
    "query('What are my biggest expenses? Please give a list by the descriptions.')"
   ]
  },
  {
   "cell_type": "code",
   "execution_count": 32,
   "id": "89eb0442-12fa-476d-a644-ad58f288fdb3",
   "metadata": {},
   "outputs": [],
   "source": [
    "# try to understand what it takes to create a dialogue where the user input is added to the embedding DB"
   ]
  },
  {
   "cell_type": "code",
   "execution_count": 31,
   "id": "cf5849f5-16e3-4d34-8658-e5b9fa5a7d49",
   "metadata": {},
   "outputs": [
    {
     "name": "stdin",
     "output_type": "stream",
     "text": [
      "Enter a concept:  What is my biggest expense?\n"
     ]
    },
    {
     "name": "stdout",
     "output_type": "stream",
     "text": [
      "Define What is my biggest expense? with a real-world example?\n",
      "\n",
      "\n",
      "Your biggest expense will depend on your individual lifestyle and financial situation. For example, if you own a home, your biggest expense may be your mortgage payment. If you rent, your biggest expense may be your rent payment. Other common expenses include car payments, insurance premiums, utilities, groceries, and credit card payments.\n"
     ]
    }
   ],
   "source": [
    "# example from the web\n",
    "\n",
    "# Step 3: Get user input\n",
    "user_input = input(\"Enter a concept: \")\n",
    " \n",
    "# Step 4: Define the Prompt Template\n",
    "prompt = PromptTemplate(\n",
    "    input_variables=[\"concept\"],\n",
    "    template=\"Define {concept} with a real-world example?\",\n",
    ")\n",
    " \n",
    "# Step 5: Print the Prompt Template\n",
    "print(prompt.format(concept=user_input))\n",
    " \n",
    "# Step 6: Instantiate the LLMChain\n",
    "#llm = OpenAI(temperature=0.9) # use the llm from above\n",
    "chain = LLMChain(llm=llm, prompt=prompt)\n",
    " \n",
    "# Step 7: Run the LLMChain\n",
    "output = chain.run(user_input)\n",
    "print(output)"
   ]
  },
  {
   "cell_type": "code",
   "execution_count": null,
   "id": "134fddf9-d1cc-4749-a165-6106beba98bc",
   "metadata": {},
   "outputs": [],
   "source": [
    "# how to expose an endpoint?"
   ]
  }
 ],
 "metadata": {
  "kernelspec": {
   "display_name": "Python 3 (ipykernel)",
   "language": "python",
   "name": "python3"
  },
  "language_info": {
   "codemirror_mode": {
    "name": "ipython",
    "version": 3
   },
   "file_extension": ".py",
   "mimetype": "text/x-python",
   "name": "python",
   "nbconvert_exporter": "python",
   "pygments_lexer": "ipython3",
   "version": "3.10.11"
  }
 },
 "nbformat": 4,
 "nbformat_minor": 5
}
