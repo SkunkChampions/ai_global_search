{
 "cells": [
  {
   "cell_type": "code",
   "execution_count": 2,
   "metadata": {},
   "outputs": [],
   "source": [
    "import json\n",
    "import pandas as pd\n",
    "import numpy as np"
   ]
  },
  {
   "cell_type": "code",
   "execution_count": 34,
   "metadata": {},
   "outputs": [
    {
     "name": "stdout",
     "output_type": "stream",
     "text": [
      "Location\n",
      "Blue Pot 1     4434646.45\n",
      "Blue Pot 10    2583667.70\n",
      "Blue Pot 2     4142054.99\n",
      "Blue Pot 3     2152025.20\n",
      "Blue Pot 4     3851911.06\n",
      "Blue Pot 5     3420977.46\n",
      "Blue Pot 6     2866814.00\n",
      "Blue Pot 7     2482944.53\n",
      "Blue Pot 8     2532471.03\n",
      "Blue Pot 9     2072587.13\n",
      "Name: Amount, dtype: float64\n"
     ]
    }
   ],
   "source": [
    "# test\n",
    "df = pd.read_csv('../data/hack.csv')\n",
    "\n",
    "total_cashout = df[df['Type'] == 'Cash out']['Amount'].sum()\n",
    "numberOfCashout = df['Type'].value_counts()['Cash out']\n",
    "# print(total_cashout)\n",
    "# print(numberOfCashout)\n",
    "\n",
    "zip_codes_ranked = df.groupby('Zip Code')['Amount'].sum().sort_values(ascending=False).to_frame()\n",
    "\n",
    "# print(zip_codes_ranked)\n",
    "totalRevenueByStore = df.groupby('Location')['Amount'].sum()\n",
    "print(totalRevenueByStore)"
   ]
  },
  {
   "cell_type": "code",
   "execution_count": 37,
   "metadata": {},
   "outputs": [],
   "source": [
    "# creating example contexts\n",
    "contexts = [\n",
    "    {'context': 'There are ' + str(numberOfCashout) + ' cash out transactions, and'  + str(total_cashout) + ' is the total cash out amount', \n",
    "     'example_conversation': ['What is the cashout totals?', 'From the ' + str(numberOfCashout) + ' cash out transactions, the total cash out amount comes out to be ' + str(total_cashout) + '.']},\n",
    "    {'context': 'The zipcode with the highest amount of 7018314.15 is 94070', \n",
    "     'example_conversation': ['Rank zip Codes from greatest to lowest have highest aggregate of cashout and list them in a table?', 'Zipcode 94070 has the highest cashout of 7018314.15.']},\n",
    "    {'context': 'The total revenue by store is as follows: Blue Pot 1 4434646.45, Blue Pot 10 2583667.70, Blue Pot 2 4142054.99, Blue Pot 3 2152025.20',\n",
    "     'example_conversation': ['What is the total revenue by store?', 'There are a total of ten stores with the revenue by store being as follows:', totalRevenueByStore]},\n",
    "    {'context': 'Hot Coffee, Iced Coffee, Website Sales, Milk and Cream Purchase, and Electricity Bill are the biggest expenses across all shops. The categories are cost, expense, and revenue.',\n",
    "     'example_conversation': ['Which are biggest expenses across all shops?', 'Across all shops Hot Coffee, Iced Coffee, Website Sales, Milk and Cream Purchase, and Electricity Bill are the biggest expenses with cost, expense, and revenue being the costliest categories.']},\n",
    "    {'context': 'The most profitable month and year is November 2022 with a total revenue of 1851709.06.',\n",
    "     'example_conversation': ['Which month and year is more profitbale?', 'The most profitable month and year is November 2022 with a total revenue of 1851709.06.']},\n",
    "    {'context': '0 stores are unprofitable.',\n",
    "     'example_conversation': ['How many stores are unprofitable?', 'Great news! There are no stores that are unprofitable.']},\n",
    "    {'context': 'The average profit per store in 2022 and 2023 is $353,239.44 and $195,055.14 respectively.',\n",
    "     'example_conversation': ['What is average profit per store in 2022 and 2023?', 'In 2022 the average profit per store was $353,239.44. This year, 2023, currently has an average profit of $195,055.14.']},\n",
    "    {'context': 'Profits per store are down from 2022 to 2023 because the total amount spent in 2023 is lower than the total amount spent in 2022.',\n",
    "     'example_conversation': ['Why my profits per store are down from 2022 to 2023?', 'The total amount spent in 2023 is lower than in 2022. However, you had the whole year of profits for 2022 whereas it is only halfway through 2023.']}\n",
    "]"
   ]
  },
  {
   "cell_type": "code",
   "execution_count": 39,
   "metadata": {},
   "outputs": [
    {
     "name": "stdout",
     "output_type": "stream",
     "text": [
      "['What is the cashout totals? From the 4104 cash out transactions, the total cash out amount comes out to be 16898201.05.', 'Rank zip Codes from greatest to lowest have highest aggregate of cashout and list them in a table? Zipcode 94070 has the highest cashout of 7018314.15.', 'What is the total revenue by store? There are a total of ten stores with the revenue by store being as follows:', 'Which are biggest expenses across all shops? Across all shops Hot Coffee, Iced Coffee, Website Sales, Milk and Cream Purchase, and Electricity Bill are the biggest expenses with cost, expense, and revenue being the costliest categories.', 'Which month and year is more profitbale? The most profitable month and year is November 2022 with a total revenue of 1851709.06.', 'How many stores are unprofitable? Great news! There are no stores that are unprofitable.', 'What is average profit per store in 2022 and 2023? In 2022 the average profit per store was $353,239.44. This year, 2023, currently has an average profit of $195,055.14.', 'Why my profits per store are down from 2022 to 2023? The total amount spent in 2023 is lower than in 2022. However, you had the whole year of profits for 2022 whereas it is only halfway through 2023.']\n"
     ]
    }
   ],
   "source": [
    "# defining the knowledge base dictionary to write to a json file\n",
    "knowledgeBase = []\n",
    "\n",
    "for cxt in contexts:\n",
    "    currentKnowledge = cxt['example_conversation'][0] + ' ' + cxt['example_conversation'][1]\n",
    "    knowledgeBase.append(currentKnowledge)\n",
    "\n",
    "print(knowledgeBase)\n"
   ]
  }
 ],
 "metadata": {
  "kernelspec": {
   "display_name": "Python 3",
   "language": "python",
   "name": "python3"
  },
  "language_info": {
   "codemirror_mode": {
    "name": "ipython",
    "version": 3
   },
   "file_extension": ".py",
   "mimetype": "text/x-python",
   "name": "python",
   "nbconvert_exporter": "python",
   "pygments_lexer": "ipython3",
   "version": "3.11.3"
  }
 },
 "nbformat": 4,
 "nbformat_minor": 4
}
