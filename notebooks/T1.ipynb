{
 "cells": [
  {
   "cell_type": "code",
   "execution_count": 7,
   "metadata": {},
   "outputs": [],
   "source": [
    "# must use python 3.9+"
   ]
  },
  {
   "cell_type": "code",
   "execution_count": 1,
   "metadata": {},
   "outputs": [
    {
     "name": "stdout",
     "output_type": "stream",
     "text": [
      "Requirement already satisfied: langchain in /home/alex/anaconda3/lib/python3.7/site-packages (0.0.19)\n",
      "Requirement already satisfied: openai in /home/alex/anaconda3/lib/python3.7/site-packages (0.27.8)\n",
      "Requirement already satisfied: pyyaml in /home/alex/anaconda3/lib/python3.7/site-packages (from langchain) (5.1.1)\n",
      "Requirement already satisfied: requests in /home/alex/anaconda3/lib/python3.7/site-packages (from langchain) (2.22.0)\n",
      "Requirement already satisfied: numpy in /home/alex/anaconda3/lib/python3.7/site-packages (from langchain) (1.16.4)\n",
      "Requirement already satisfied: pydantic in /home/alex/anaconda3/lib/python3.7/site-packages (from langchain) (1.10.9)\n",
      "Requirement already satisfied: sqlalchemy in /home/alex/anaconda3/lib/python3.7/site-packages (from langchain) (1.3.5)\n",
      "Requirement already satisfied: aiohttp in /home/alex/anaconda3/lib/python3.7/site-packages (from openai) (3.8.4)\n",
      "Requirement already satisfied: tqdm in /home/alex/anaconda3/lib/python3.7/site-packages (from openai) (4.32.1)\n",
      "Requirement already satisfied: typing-extensions; python_version < \"3.8\" in /home/alex/anaconda3/lib/python3.7/site-packages (from openai) (4.6.3)\n",
      "Requirement already satisfied: urllib3!=1.25.0,!=1.25.1,<1.26,>=1.21.1 in /home/alex/anaconda3/lib/python3.7/site-packages (from requests->langchain) (1.24.2)\n",
      "Requirement already satisfied: chardet<3.1.0,>=3.0.2 in /home/alex/anaconda3/lib/python3.7/site-packages (from requests->langchain) (3.0.4)\n",
      "Requirement already satisfied: idna<2.9,>=2.5 in /home/alex/anaconda3/lib/python3.7/site-packages (from requests->langchain) (2.8)\n",
      "Requirement already satisfied: certifi>=2017.4.17 in /home/alex/anaconda3/lib/python3.7/site-packages (from requests->langchain) (2019.6.16)\n",
      "Requirement already satisfied: yarl<2.0,>=1.0 in /home/alex/anaconda3/lib/python3.7/site-packages (from aiohttp->openai) (1.9.2)\n",
      "Requirement already satisfied: asynctest==0.13.0; python_version < \"3.8\" in /home/alex/anaconda3/lib/python3.7/site-packages (from aiohttp->openai) (0.13.0)\n",
      "Requirement already satisfied: async-timeout<5.0,>=4.0.0a3 in /home/alex/anaconda3/lib/python3.7/site-packages (from aiohttp->openai) (4.0.2)\n",
      "Requirement already satisfied: frozenlist>=1.1.1 in /home/alex/anaconda3/lib/python3.7/site-packages (from aiohttp->openai) (1.3.3)\n",
      "Requirement already satisfied: aiosignal>=1.1.2 in /home/alex/anaconda3/lib/python3.7/site-packages (from aiohttp->openai) (1.3.1)\n",
      "Requirement already satisfied: multidict<7.0,>=4.5 in /home/alex/anaconda3/lib/python3.7/site-packages (from aiohttp->openai) (6.0.4)\n",
      "Requirement already satisfied: attrs>=17.3.0 in /home/alex/anaconda3/lib/python3.7/site-packages (from aiohttp->openai) (19.1.0)\n",
      "Requirement already satisfied: charset-normalizer<4.0,>=2.0 in /home/alex/anaconda3/lib/python3.7/site-packages (from aiohttp->openai) (3.1.0)\n",
      "\u001b[33mWARNING: You are using pip version 20.0.2; however, version 23.1.2 is available.\n",
      "You should consider upgrading via the '/home/alex/anaconda3/bin/python -m pip install --upgrade pip' command.\u001b[0m\n"
     ]
    }
   ],
   "source": [
    "!pip install langchain openai"
   ]
  },
  {
   "cell_type": "code",
   "execution_count": 1,
   "metadata": {},
   "outputs": [],
   "source": [
    "from langchain.llms import OpenAI\n",
    "from langchain.agents import create_pandas_dataframe_agent\n",
    "from langchain.agents import create_csv_agent\n",
    "import pandas as pd\n",
    "import json"
   ]
  },
  {
   "cell_type": "code",
   "execution_count": 2,
   "metadata": {},
   "outputs": [],
   "source": [
    "from langchain.agents import load_tools"
   ]
  },
  {
   "cell_type": "code",
   "execution_count": 3,
   "metadata": {},
   "outputs": [],
   "source": [
    "import os"
   ]
  },
  {
   "cell_type": "code",
   "execution_count": 4,
   "metadata": {},
   "outputs": [
    {
     "name": "stdout",
     "output_type": "stream",
     "text": [
      "Python 3.10.11\n"
     ]
    }
   ],
   "source": [
    "!python -V"
   ]
  },
  {
   "cell_type": "code",
   "execution_count": 5,
   "metadata": {},
   "outputs": [],
   "source": [
    "os.environ[\"OPENAI_API_KEY\"] = \"\""
   ]
  },
  {
   "cell_type": "code",
   "execution_count": 9,
   "metadata": {},
   "outputs": [],
   "source": [
    "df = pd.read_csv('../data/hack.csv')"
   ]
  },
  {
   "cell_type": "code",
   "execution_count": 7,
   "metadata": {},
   "outputs": [],
   "source": [
    "agent.run(\"how many rows are there?\")"
   ]
  },
  {
   "cell_type": "code",
   "execution_count": 10,
   "metadata": {},
   "outputs": [
    {
     "ename": "NameError",
     "evalue": "name 'agent' is not defined",
     "output_type": "error",
     "traceback": [
      "\u001b[0;31m---------------------------------------------------------------------------\u001b[0m",
      "\u001b[0;31mNameError\u001b[0m                                 Traceback (most recent call last)",
      "\u001b[0;32m<ipython-input-10-4cc316ccd2d3>\u001b[0m in \u001b[0;36m<module>\u001b[0;34m\u001b[0m\n\u001b[0;32m----> 1\u001b[0;31m \u001b[0magent\u001b[0m\u001b[0;34m.\u001b[0m\u001b[0mrun\u001b[0m\u001b[0;34m(\u001b[0m\u001b[0;34m\"What is cash out totals?\"\u001b[0m\u001b[0;34m)\u001b[0m\u001b[0;34m\u001b[0m\u001b[0;34m\u001b[0m\u001b[0m\n\u001b[0m",
      "\u001b[0;31mNameError\u001b[0m: name 'agent' is not defined"
     ]
    }
   ],
   "source": [
    "agent.run(\"What is cash out totals?\")"
   ]
  },
  {
   "cell_type": "code",
   "execution_count": 11,
   "metadata": {},
   "outputs": [],
   "source": [
    "agent.run(\"Rank zip codes from greatest to lowest by aggregate of cashout and list them in a table.\")"
   ]
  },
  {
   "cell_type": "code",
   "execution_count": 29,
   "metadata": {},
   "outputs": [
    {
     "ename": "NameError",
     "evalue": "name 'agent' is not defined",
     "output_type": "error",
     "traceback": [
      "\u001b[0;31m---------------------------------------------------------------------------\u001b[0m",
      "\u001b[0;31mNameError\u001b[0m                                 Traceback (most recent call last)",
      "\u001b[0;32m<ipython-input-29-6104c23c0d57>\u001b[0m in \u001b[0;36m<module>\u001b[0;34m\u001b[0m\n\u001b[0;32m----> 1\u001b[0;31m \u001b[0magent\u001b[0m\u001b[0;34m.\u001b[0m\u001b[0mrun\u001b[0m\u001b[0;34m(\u001b[0m\u001b[0;34m\"What is the total revenue by store?\"\u001b[0m\u001b[0;34m)\u001b[0m\u001b[0;34m\u001b[0m\u001b[0;34m\u001b[0m\u001b[0m\n\u001b[0m",
      "\u001b[0;31mNameError\u001b[0m: name 'agent' is not defined"
     ]
    }
   ],
   "source": [
    "agent.run(\"What is the total revenue by store?\")"
   ]
  },
  {
   "cell_type": "code",
   "execution_count": 30,
   "metadata": {},
   "outputs": [
    {
     "ename": "NameError",
     "evalue": "name 'agent' is not defined",
     "output_type": "error",
     "traceback": [
      "\u001b[0;31m---------------------------------------------------------------------------\u001b[0m",
      "\u001b[0;31mNameError\u001b[0m                                 Traceback (most recent call last)",
      "\u001b[0;32m<ipython-input-30-5298a5bb776d>\u001b[0m in \u001b[0;36m<module>\u001b[0;34m\u001b[0m\n\u001b[0;32m----> 1\u001b[0;31m \u001b[0magent\u001b[0m\u001b[0;34m.\u001b[0m\u001b[0mrun\u001b[0m\u001b[0;34m(\u001b[0m\u001b[0;34m\"which are the biggest expenses across all shops?\"\u001b[0m\u001b[0;34m)\u001b[0m\u001b[0;34m\u001b[0m\u001b[0;34m\u001b[0m\u001b[0m\n\u001b[0m",
      "\u001b[0;31mNameError\u001b[0m: name 'agent' is not defined"
     ]
    }
   ],
   "source": [
    "agent.run(\"which are the biggest expenses across all shops?\")"
   ]
  },
  {
   "cell_type": "code",
   "execution_count": null,
   "metadata": {},
   "outputs": [],
   "source": []
  }
 ],
 "metadata": {
  "kernelspec": {
   "display_name": "Python 3 (ipykernel)",
   "language": "python",
   "name": "python3"
  },
  "language_info": {
   "codemirror_mode": {
    "name": "ipython",
    "version": 3
   },
   "file_extension": ".py",
   "mimetype": "text/x-python",
   "name": "python",
   "nbconvert_exporter": "python",
   "pygments_lexer": "ipython3",
   "version": "3.10.11"
  }
 },
 "nbformat": 4,
 "nbformat_minor": 4
}
